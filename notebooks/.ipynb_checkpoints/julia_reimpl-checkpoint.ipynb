{
 "cells": [
  {
   "cell_type": "code",
   "execution_count": 1,
   "metadata": {},
   "outputs": [],
   "source": [
    "using BenchmarkTools\n",
    "using Distributed\n",
    "using Plots\n",
    "using ScikitLearn\n",
    "using StatsBase\n",
    "using LoopVectorization\n",
    "using DataStructures\n",
    "using TimerOutputs\n",
    "using TrackingHeaps\n",
    "# using HDF5, JLD"
   ]
  },
  {
   "cell_type": "code",
   "execution_count": 2,
   "metadata": {},
   "outputs": [
    {
     "data": {
      "text/plain": [
       "PyObject <function fetch_covtype at 0x7f829a9313a0>"
      ]
     },
     "execution_count": 2,
     "metadata": {},
     "output_type": "execute_result"
    }
   ],
   "source": [
    "@sk_import datasets: (fetch_covtype)"
   ]
  },
  {
   "cell_type": "code",
   "execution_count": 3,
   "metadata": {},
   "outputs": [],
   "source": [
    "# save(\"../data/digits_data.jld\", \"data\", digits_data)"
   ]
  },
  {
   "cell_type": "code",
   "execution_count": 4,
   "metadata": {},
   "outputs": [],
   "source": [
    "digits_data = fetch_covtype();"
   ]
  },
  {
   "cell_type": "code",
   "execution_count": 5,
   "metadata": {},
   "outputs": [],
   "source": [
    "X_digits = abs.(digits_data[\"data\"]);\n",
    "X_digits = transpose(X_digits);"
   ]
  },
  {
   "cell_type": "code",
   "execution_count": 6,
   "metadata": {},
   "outputs": [],
   "source": [
    "struct NaiveGreedy\n",
    "    X::Matrix{Float64}\n",
    "end\n",
    "\n",
    "struct LazyGreedy\n",
    "    X::Matrix{Float64}\n",
    "end\n",
    "\n",
    "struct Result\n",
    "    ranking::Vector{Int32}\n",
    "    gains::Vector{Float64}\n",
    "end"
   ]
  },
  {
   "cell_type": "code",
   "execution_count": 7,
   "metadata": {},
   "outputs": [],
   "source": [
    "function fill!(pq::PriorityQueue, k, v)\n",
    "    for i in eachindex(k)\n",
    "        enqueue!(pq, k[i], v[i])\n",
    "    end\n",
    "end;"
   ]
  },
  {
   "cell_type": "code",
   "execution_count": 8,
   "metadata": {},
   "outputs": [],
   "source": [
    "# function get_gains!(X, current_values, idxs, gains)\n",
    "#     Threads.@threads for i in eachindex(idxs)\n",
    "#         idx = idxs[i]\n",
    "#         @fastmath gains[i] = sum(sqrt.(current_values + view(X, :, idx)))\n",
    "#     end\n",
    "# end;"
   ]
  },
  {
   "cell_type": "code",
   "execution_count": 9,
   "metadata": {},
   "outputs": [],
   "source": [
    "function get_gains!(X, current_values, idxs, gains)\n",
    "    @inbounds Threads.@threads for i in eachindex(idxs)\n",
    "        s = 0.0\n",
    "        for j in eachindex(current_values)\n",
    "            s += @fastmath sqrt(current_values[j] + X[j, idxs[i]])\n",
    "        end\n",
    "        gains[i] = s\n",
    "    end\n",
    "end;"
   ]
  },
  {
   "cell_type": "code",
   "execution_count": 10,
   "metadata": {},
   "outputs": [],
   "source": [
    "function get_gains(X, current_values, idxs::Int)\n",
    "    s = 0.0\n",
    "    @tturbo for j in eachindex(current_values)\n",
    "        s += sqrt(current_values[j] + X[j, idxs])\n",
    "    end\n",
    "    return s\n",
    "end;"
   ]
  },
  {
   "cell_type": "code",
   "execution_count": 11,
   "metadata": {},
   "outputs": [],
   "source": [
    "# @code_native get_gains!(rand(10, 10), rand(10), rand(1:10, 10), rand(10))"
   ]
  },
  {
   "cell_type": "code",
   "execution_count": 12,
   "metadata": {},
   "outputs": [],
   "source": [
    "function calculate_gains!(X, gains, current_values, idxs, current_concave_value_sum)\n",
    "    get_gains!(X, current_values, idxs, gains)\n",
    "    \n",
    "    gains .-= current_concave_value_sum\n",
    "    return gains\n",
    "end;"
   ]
  },
  {
   "cell_type": "code",
   "execution_count": 13,
   "metadata": {},
   "outputs": [],
   "source": [
    "function calculate_gains(X, current_values, idxs::Int, current_concave_value_sum)\n",
    "    return get_gains(X, current_values, idxs) - current_concave_value_sum\n",
    "end;"
   ]
  },
  {
   "cell_type": "code",
   "execution_count": 14,
   "metadata": {},
   "outputs": [],
   "source": [
    "function fit(optimizer::NaiveGreedy, k)\n",
    "    d, n = size(optimizer.X)\n",
    "\n",
    "    cost = 0.0\n",
    "\n",
    "    ranking = Int32[]\n",
    "    total_gains = Float64[]\n",
    "\n",
    "    mask = zeros(Int8, n)\n",
    "    current_values = zeros(Float64, d)\n",
    "    current_concave_values = sqrt.(current_values)\n",
    "    current_concave_values_sum = sum(current_concave_values)\n",
    "\n",
    "    idxs = 1:n\n",
    "\n",
    "    gains = zeros(Float64, size(idxs)[1])\n",
    "    while cost < k\n",
    "        gains = calculate_gains!(optimizer.X, gains, current_values, idxs, current_concave_values_sum)\n",
    "\n",
    "        idx = argmax(gains)\n",
    "        best_idx = idxs[idx]\n",
    "        curr_cost = 1.\n",
    "\n",
    "        if cost + curr_cost > k\n",
    "            break\n",
    "        end\n",
    "\n",
    "        cost += curr_cost\n",
    "        # Calculate gains\n",
    "        gain = gains[idx] * curr_cost\n",
    "\n",
    "        # Select next\n",
    "        current_values += view(optimizer.X, :, best_idx)\n",
    "        current_concave_values .= sqrt.(current_values)\n",
    "        current_concave_values_sum = sum(current_concave_values)\n",
    "\n",
    "        push!(ranking, best_idx)\n",
    "        push!(total_gains, gain)\n",
    "\n",
    "        mask[best_idx] = 1\n",
    "        idxs = findall(==(0), mask)\n",
    "    end\n",
    "    return Result(ranking, total_gains)\n",
    "end;"
   ]
  },
  {
   "cell_type": "code",
   "execution_count": 15,
   "metadata": {},
   "outputs": [],
   "source": [
    "function fit(optimizer::LazyGreedy, k)\n",
    "    d, n = size(optimizer.X)\n",
    "\n",
    "    cost = 0.0\n",
    "    curr_cost = 1.\n",
    "\n",
    "    ranking = Int32[]\n",
    "    total_gains = Float64[]\n",
    "\n",
    "    mask = zeros(Int8, n)\n",
    "    current_values = zeros(Float64, d)\n",
    "    current_concave_values = sqrt.(current_values)\n",
    "    current_concave_values_sum = sum(current_concave_values)\n",
    "\n",
    "    idxs = 1:n\n",
    "\n",
    "    gains = zeros(Float64, size(idxs)[1])\n",
    "    calculate_gains!(optimizer.X, gains, current_values, idxs, current_concave_values_sum)\n",
    "    pq = PriorityQueue{Int64, Float64}(Base.Order.Reverse)\n",
    "    fill!(pq, idxs, gains)\n",
    "\n",
    "    while cost < k\n",
    "        if length(pq) == 0\n",
    "            return\n",
    "        end\n",
    "        \n",
    "        best_gain = -Inf\n",
    "        best_idx = -1\n",
    "        \n",
    "        while true\n",
    "            idx = dequeue!(pq)\n",
    "\n",
    "            if cost + curr_cost > k\n",
    "                continue\n",
    "            end\n",
    "\n",
    "            if best_idx == idx\n",
    "                break\n",
    "            end\n",
    "\n",
    "            gain = calculate_gains(optimizer.X, current_values, idx, current_concave_values_sum)\n",
    "            enqueue!(pq, idx, gain)\n",
    "\n",
    "            if gain > best_gain\n",
    "                best_gain = gain\n",
    "                best_idx = idx\n",
    "            elseif gain == best_gain && best_gain == 0.0\n",
    "                best_gain = gain\n",
    "                best_idx = idx\n",
    "                break\n",
    "            end\n",
    "        end\n",
    "\n",
    "        cost += curr_cost\n",
    "\n",
    "        # Select next\n",
    "        current_values += view(optimizer.X, :, best_idx)\n",
    "        current_concave_values .= sqrt.(current_values)\n",
    "        current_concave_values_sum = sum(current_concave_values)\n",
    "\n",
    "        push!(ranking, best_idx)\n",
    "        push!(total_gains, best_gain)\n",
    "\n",
    "        mask[best_idx] = 1\n",
    "        idxs = findall(==(0), mask)\n",
    "    end\n",
    "    return Result(ranking, total_gains)\n",
    "end;"
   ]
  },
  {
   "cell_type": "code",
   "execution_count": 16,
   "metadata": {},
   "outputs": [],
   "source": [
    "k = 1000;"
   ]
  },
  {
   "cell_type": "code",
   "execution_count": null,
   "metadata": {},
   "outputs": [],
   "source": [
    "opt1 = NaiveGreedy(X_digits);\n",
    "res1 = @btime fit(opt1, k);"
   ]
  },
  {
   "cell_type": "code",
   "execution_count": null,
   "metadata": {},
   "outputs": [],
   "source": [
    "opt1 = NaiveGreedy(X_digits);\n",
    "res1 = @btime fit(opt1, k);\n",
    "bench1 = @benchmark fit(opt1, k);\n",
    "t1 = bench1.times[1]/1e9;"
   ]
  },
  {
   "cell_type": "code",
   "execution_count": null,
   "metadata": {},
   "outputs": [],
   "source": [
    "opt2 = LazyGreedy(X_digits);\n",
    "res2 = @btime fit(opt2, k);\n",
    "bench2 = @benchmark fit(opt2, k);\n",
    "t2 = bench2.times[1]/1e9;"
   ]
  },
  {
   "cell_type": "code",
   "execution_count": null,
   "metadata": {},
   "outputs": [],
   "source": [
    "bench0 = @benchmark begin\n",
    "    idxs = StatsBase.sample(1:size(X_digits)[2], k)\n",
    "    X_subset = X_digits[:, idxs]\n",
    "    global gains1 = cumsum(X_subset, dims=2)\n",
    "    global gains1 = vec(sum(sqrt.(gains1), dims=1))\n",
    "end\n",
    "t0 = bench0.times[1]/1e9;"
   ]
  },
  {
   "cell_type": "code",
   "execution_count": null,
   "metadata": {},
   "outputs": [],
   "source": [
    "p1 = plot(gains1, label=\"Random\")\n",
    "plot!(cumsum(res1.gains), label=\"Naive\")\n",
    "ylabel!(\"F(S)\", fontsize=12)\n",
    "xlabel!(\"Subset Size\", fontsize=12)\n",
    "\n",
    "labels = [\"Random\", \"Naive\"]\n",
    "p2 = bar(labels, [t0, t1], labels=labels, legend=false)\n",
    "ylabel!(\"Time (s)\")\n",
    "\n",
    "plot(p1, p2, layout = (1, 2))\n",
    "plot!(size=(900,500))"
   ]
  },
  {
   "cell_type": "code",
   "execution_count": null,
   "metadata": {},
   "outputs": [],
   "source": []
  }
 ],
 "metadata": {
  "kernelspec": {
   "display_name": "Julia 1.6.2",
   "language": "julia",
   "name": "julia-1.6"
  },
  "language_info": {
   "file_extension": ".jl",
   "mimetype": "application/julia",
   "name": "julia",
   "version": "1.6.2"
  }
 },
 "nbformat": 4,
 "nbformat_minor": 4
}
