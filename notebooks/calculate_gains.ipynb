{
 "cells": [
  {
   "cell_type": "code",
   "execution_count": 1,
   "metadata": {},
   "outputs": [],
   "source": [
    "using BenchmarkTools\n",
    "using Distributed\n",
    "using TimerOutputs"
   ]
  },
  {
   "cell_type": "code",
   "execution_count": 16,
   "metadata": {},
   "outputs": [],
   "source": [
    "X = rand(54, 581012)*100;"
   ]
  },
  {
   "cell_type": "code",
   "execution_count": 6,
   "metadata": {},
   "outputs": [],
   "source": [
    "function get_gains!(X, current_values, idxs, gains)\n",
    "    Threads.@threads for i in eachindex(idxs)\n",
    "        s = 0.0\n",
    "        for j in eachindex(current_values)\n",
    "            @inbounds s += @fastmath sqrt(current_values[j] + X[j, idxs[i]])\n",
    "        end\n",
    "        gains[i] = s\n",
    "    end\n",
    "end;"
   ]
  },
  {
   "cell_type": "code",
   "execution_count": 7,
   "metadata": {},
   "outputs": [],
   "source": [
    "function calculate_gains!(X, gains, current_values, idxs, current_concave_value_sum)\n",
    "    get_gains!(X, current_values, idxs, gains)\n",
    "    \n",
    "    gains .-= current_concave_value_sum\n",
    "    return gains\n",
    "end;"
   ]
  },
  {
   "cell_type": "code",
   "execution_count": 17,
   "metadata": {},
   "outputs": [
    {
     "name": "stdout",
     "output_type": "stream",
     "text": [
      "  9.130 ms (96 allocations: 8.87 MiB)\n"
     ]
    },
    {
     "data": {
      "text/plain": [
       "581012-element Vector{Float64}:\n",
       " 322.32773270652376\n",
       " 382.9562070864021\n",
       " 365.5485152912516\n",
       " 365.75770572584594\n",
       " 383.18833649929616\n",
       " 362.62603349700396\n",
       " 355.5093914170371\n",
       " 363.158694415829\n",
       " 325.3034941715409\n",
       " 360.8704474503573\n",
       " 378.9675290543217\n",
       " 364.85290335519625\n",
       " 330.77501785921936\n",
       "   ⋮\n",
       " 369.40183610573973\n",
       " 358.3192580535032\n",
       " 354.7823600160897\n",
       " 351.995954338707\n",
       " 369.2663740409964\n",
       " 346.44615323506355\n",
       " 362.4266694368385\n",
       " 349.96662796009343\n",
       " 349.1472282838731\n",
       " 365.2317912471448\n",
       " 371.140435896119\n",
       " 349.28805359958784"
      ]
     },
     "execution_count": 17,
     "metadata": {},
     "output_type": "execute_result"
    }
   ],
   "source": [
    "@btime begin\n",
    "    d, n = size(X);\n",
    "    idxs = 1:n |> collect\n",
    "\n",
    "    current_values = zeros(Float64, d)\n",
    "    current_concave_values = sqrt.(current_values)\n",
    "    current_concave_values_sum = sum(current_concave_values)\n",
    "\n",
    "    gains = zeros(Float64, n);\n",
    "    calculate_gains!(X, gains, current_values, idxs, current_concave_values_sum);\n",
    "end"
   ]
  },
  {
   "cell_type": "code",
   "execution_count": null,
   "metadata": {},
   "outputs": [],
   "source": []
  }
 ],
 "metadata": {
  "kernelspec": {
   "display_name": "Julia 1.6.2",
   "language": "julia",
   "name": "julia-1.6"
  },
  "language_info": {
   "file_extension": ".jl",
   "mimetype": "application/julia",
   "name": "julia",
   "version": "1.6.2"
  }
 },
 "nbformat": 4,
 "nbformat_minor": 4
}
