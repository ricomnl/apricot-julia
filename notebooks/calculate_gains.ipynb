{
 "cells": [
  {
   "cell_type": "code",
   "execution_count": 1,
   "metadata": {},
   "outputs": [],
   "source": [
    "using BenchmarkTools\n",
    "using Distributed\n",
    "using Plots\n",
    "using Profile\n",
    "using ProfileVega\n",
    "using PyCall\n",
    "using ScikitLearn\n",
    "using Traceur\n",
    "using TimerOutputs"
   ]
  },
  {
   "cell_type": "code",
   "execution_count": 2,
   "metadata": {},
   "outputs": [
    {
     "data": {
      "text/plain": [
       "PyObject <function fetch_covtype at 0x7f81619113a0>"
      ]
     },
     "execution_count": 2,
     "metadata": {},
     "output_type": "execute_result"
    }
   ],
   "source": [
    "@sk_import datasets: (fetch_covtype)"
   ]
  },
  {
   "cell_type": "code",
   "execution_count": 3,
   "metadata": {},
   "outputs": [],
   "source": [
    "digits_data = fetch_covtype();"
   ]
  },
  {
   "cell_type": "code",
   "execution_count": 4,
   "metadata": {},
   "outputs": [],
   "source": [
    "X_digits = abs.(digits_data[\"data\"]);\n",
    "X_digits = transpose(X_digits);"
   ]
  },
  {
   "cell_type": "code",
   "execution_count": 6,
   "metadata": {},
   "outputs": [],
   "source": [
    "function get_gains!(X, current_values, idxs, gains)\n",
    "    Threads.@threads for i in eachindex(idxs)\n",
    "        s = 0.0\n",
    "        for j in eachindex(current_values)\n",
    "            @inbounds s += @fastmath sqrt(current_values[j] + X[j, idxs[i]])\n",
    "        end\n",
    "        gains[i] = s\n",
    "    end\n",
    "end;"
   ]
  },
  {
   "cell_type": "code",
   "execution_count": 7,
   "metadata": {},
   "outputs": [],
   "source": [
    "function calculate_gains!(X, gains, current_values, idxs, current_concave_value_sum)\n",
    "    get_gains!(X, current_values, idxs, gains)\n",
    "    \n",
    "    gains .-= current_concave_value_sum\n",
    "    return gains\n",
    "end;"
   ]
  },
  {
   "cell_type": "code",
   "execution_count": 9,
   "metadata": {},
   "outputs": [
    {
     "name": "stdout",
     "output_type": "stream",
     "text": [
      "  10.594 ms (96 allocations: 8.87 MiB)\n"
     ]
    },
    {
     "data": {
      "text/plain": [
       "581012-element Vector{Float64}:\n",
       " 221.97327539529405\n",
       " 219.8966797240838\n",
       " 271.1471644897934\n",
       " 274.1822937228027\n",
       " 215.14557840730572\n",
       " 216.15354296606503\n",
       " 226.97207155280068\n",
       " 224.90252282136385\n",
       " 231.9978510673305\n",
       " 228.16724685228837\n",
       " 238.8754089929368\n",
       " 274.2626594102293\n",
       " 266.2365723322574\n",
       "   ⋮\n",
       " 169.65537402249007\n",
       " 168.53603624501983\n",
       " 166.7954782546634\n",
       " 164.993267619306\n",
       " 164.0323204798027\n",
       " 163.57708363018048\n",
       " 162.99973719540802\n",
       " 162.20583123960742\n",
       " 159.84616192019166\n",
       " 158.9693746251935\n",
       " 159.37684265706847\n",
       " 157.4720088161721"
      ]
     },
     "execution_count": 9,
     "metadata": {},
     "output_type": "execute_result"
    }
   ],
   "source": [
    "@btime begin\n",
    "    d, n = size(X_digits);\n",
    "    idxs = 1:n |> collect\n",
    "\n",
    "    current_values = zeros(Float64, d)\n",
    "    current_concave_values = sqrt.(current_values)\n",
    "    current_concave_values_sum = sum(current_concave_values)\n",
    "\n",
    "    gains = zeros(Float64, n);\n",
    "    calculate_gains!(X_digits, gains, current_values, idxs, current_concave_values_sum);\n",
    "end"
   ]
  },
  {
   "cell_type": "code",
   "execution_count": null,
   "metadata": {},
   "outputs": [],
   "source": []
  }
 ],
 "metadata": {
  "kernelspec": {
   "display_name": "Julia 1.6.2",
   "language": "julia",
   "name": "julia-1.6"
  },
  "language_info": {
   "file_extension": ".jl",
   "mimetype": "application/julia",
   "name": "julia",
   "version": "1.6.2"
  }
 },
 "nbformat": 4,
 "nbformat_minor": 4
}
