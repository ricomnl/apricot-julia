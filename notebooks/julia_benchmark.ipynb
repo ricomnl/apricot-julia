{
 "cells": [
  {
   "cell_type": "code",
   "execution_count": 2,
   "metadata": {},
   "outputs": [],
   "source": [
    "using BenchmarkTools\n",
    "using Distributed\n",
    "using Plots\n",
    "using Profile\n",
    "using ProfileVega\n",
    "using PyCall\n",
    "using ScikitLearn\n",
    "using Traceur\n",
    "using TimerOutputs"
   ]
  },
  {
   "cell_type": "code",
   "execution_count": 3,
   "metadata": {},
   "outputs": [
    {
     "data": {
      "text/plain": [
       "PyObject <function fetch_covtype at 0x7fce29bb93a0>"
      ]
     },
     "execution_count": 3,
     "metadata": {},
     "output_type": "execute_result"
    }
   ],
   "source": [
    "@sk_import datasets: (fetch_covtype)"
   ]
  },
  {
   "cell_type": "code",
   "execution_count": 4,
   "metadata": {},
   "outputs": [],
   "source": [
    "digits_data = fetch_covtype();"
   ]
  },
  {
   "cell_type": "code",
   "execution_count": 5,
   "metadata": {},
   "outputs": [],
   "source": [
    "X_digits = abs.(digits_data[\"data\"]);\n",
    "X_digits = transpose(X_digits);"
   ]
  },
  {
   "cell_type": "code",
   "execution_count": 6,
   "metadata": {},
   "outputs": [],
   "source": [
    "d, n = size(X_digits);"
   ]
  },
  {
   "cell_type": "code",
   "execution_count": 7,
   "metadata": {},
   "outputs": [],
   "source": [
    "struct RandomGreedy\n",
    "    X::Matrix{Float64}\n",
    "end\n",
    "\n",
    "struct NaiveGreedy\n",
    "    X::Matrix{Float64}\n",
    "end\n",
    "\n",
    "struct Result\n",
    "    ranking::Vector{Int32}\n",
    "    gains::Vector{Float64}\n",
    "end"
   ]
  },
  {
   "cell_type": "code",
   "execution_count": 8,
   "metadata": {},
   "outputs": [],
   "source": [
    "function lexsort(a, b, rev=false) \n",
    "    idxs = sortperm(a, alg=MergeSort, rev=rev)\n",
    "    return idxs[sortperm(b[idxs], alg=MergeSort, rev=rev)]\n",
    "end;"
   ]
  },
  {
   "cell_type": "code",
   "execution_count": 15,
   "metadata": {},
   "outputs": [
    {
     "name": "stdout",
     "output_type": "stream",
     "text": [
      "  14.603 ms (92 allocations: 8.87 MiB)\n"
     ]
    },
    {
     "data": {
      "text/plain": [
       "581012-element Vector{Float64}:\n",
       " 221.97327539529405\n",
       " 219.8966797240838\n",
       " 271.1471644897934\n",
       " 274.1822937228027\n",
       " 215.14557840730572\n",
       " 216.15354296606503\n",
       " 226.97207155280068\n",
       " 224.90252282136385\n",
       " 231.9978510673305\n",
       " 228.16724685228837\n",
       " 238.8754089929368\n",
       " 274.2626594102293\n",
       " 266.2365723322574\n",
       "   ⋮\n",
       " 169.65537402249007\n",
       " 168.53603624501983\n",
       " 166.7954782546634\n",
       " 164.993267619306\n",
       " 164.0323204798027\n",
       " 163.57708363018048\n",
       " 162.99973719540802\n",
       " 162.20583123960742\n",
       " 159.84616192019166\n",
       " 158.9693746251935\n",
       " 159.37684265706847\n",
       " 157.4720088161721"
      ]
     },
     "execution_count": 15,
     "metadata": {},
     "output_type": "execute_result"
    }
   ],
   "source": [
    "@btime begin\n",
    "    idxs = 1:n |> collect\n",
    "#     global n = size(idxs)[1]\n",
    "#     gains = zeros(n)\n",
    "    current_values = zeros(Float64, d)\n",
    "    current_concave_values = sqrt.(current_values)\n",
    "    current_concave_values_sum = sum(current_concave_values)\n",
    "\n",
    "#     gains = sum(pmap(x -> sqrt.(current_values+x), eachrow(X_digits)));\n",
    "#     Threads.@threads for i in 1:n\n",
    "#         idx = idxs[i]\n",
    "#         @fastmath gains[i] = sum(sqrt.(current_values + view(X_digits, idx, :)))\n",
    "#     end\n",
    "#     X_current = X_digits .+ current_values\n",
    "    gains = zeros(Float64, n);\n",
    "    calculate_gains!(X_digits, gains, current_values, idxs, current_concave_values_sum);\n",
    "#     gains = calculate_gains!(X_digits, gains, current_values, idxs, current_concave_values_sum);\n",
    "#     i = 1\n",
    "#     @distributed for row in eachrow(X_digits)\n",
    "#         gains[i] = sum(sqrt.(current_values + row))\n",
    "#         i += 1\n",
    "#     end\n",
    "end"
   ]
  },
  {
   "cell_type": "code",
   "execution_count": 14,
   "metadata": {},
   "outputs": [],
   "source": [
    "const to = TimerOutput();"
   ]
  },
  {
   "cell_type": "markdown",
   "metadata": {},
   "source": [
    "For loop\n",
    "881.714 ms (8131620 allocations: 1023.93 MiB)\n",
    "\n",
    "For loop using eachrows\n",
    "615.203 ms (5809105 allocations: 731.39 MiB)\n",
    "\n",
    "Parallel for loop\n",
    "108.468 ms (6970150 allocations: 997.35 MiB)\n",
    "--with view:\n",
    "91.984 ms (6970148 allocations: 722.51 MiB)\n",
    "--with fastmath:\n",
    "78.470 ms (6970148 allocations: 722.51 MiB)\n",
    "--as function\n",
    "70.131 ms (1743086 allocations: 913.15 MiB)\n",
    "--using column first orientation\n",
    "52.535 ms (2323594 allocations: 629.45 MiB)\n",
    "--precalculating array\n",
    "89.790 ms (1742586 allocations: 567.39 MiB)\n",
    "--kernel-function and eachindex (eachindex within the main function was worse ~53ms)\n",
    "51.915 ms (1162079 allocations: 616.16 MiB)\n",
    "\n",
    "Map over each row\n",
    "357.097 ms (1743047 allocations: 913.15 MiB)"
   ]
  },
  {
   "cell_type": "code",
   "execution_count": 10,
   "metadata": {},
   "outputs": [],
   "source": [
    "function get_gains!(X, current_values, idxs, gains)\n",
    "    @inbounds Threads.@threads for i in eachindex(idxs)\n",
    "        s = 0.0\n",
    "        for j in eachindex(current_values)\n",
    "            s += @fastmath sqrt(current_values[j] + X[j, idxs[i]])\n",
    "        end\n",
    "        gains[i] = s\n",
    "    end\n",
    "end;"
   ]
  },
  {
   "cell_type": "code",
   "execution_count": 11,
   "metadata": {},
   "outputs": [],
   "source": [
    "function calculate_gains!(X, gains, current_values, idxs, current_concave_value_sum)\n",
    "    get_gains!(X, current_values, idxs, gains)\n",
    "    \n",
    "    gains .-= current_concave_value_sum\n",
    "    return gains\n",
    "end;"
   ]
  },
  {
   "cell_type": "code",
   "execution_count": 12,
   "metadata": {},
   "outputs": [],
   "source": [
    "function fit(optimizer::RandomGreedy, k)\n",
    "    d, n = size(optimizer.X)\n",
    "    sample_cost = ones(Float64, n)\n",
    "\n",
    "    cost = 0.0\n",
    "\n",
    "    ranking = Int32[]\n",
    "    total_gains = Float64[]\n",
    "\n",
    "    mask = zeros(Int8, n)\n",
    "    current_values = zeros(Float64, d)\n",
    "    current_concave_values = sqrt.(current_values)\n",
    "    current_concave_values_sum = sum(current_concave_values)\n",
    "\n",
    "    idxs = 1:n\n",
    "\n",
    "    while cost < k\n",
    "        idx = rand(idxs)\n",
    "\n",
    "        if cost + sample_cost[idx] > k\n",
    "            continue\n",
    "        end\n",
    "\n",
    "        cost += sample_cost[idx]\n",
    "\n",
    "        # Calculate gains\n",
    "        gains = zeros(Float64, size(idxs)[1])\n",
    "        gains = calculate_gains!(optimizer.X, gains, current_values, Vector([idx]), current_concave_values_sum)\n",
    "        gain = gains[1]\n",
    "\n",
    "        # Select next\n",
    "        current_values += view(optimizer.X, :, idx)\n",
    "        current_concave_values = sqrt.(current_values)\n",
    "        current_concave_values_sum = sum(current_concave_values)\n",
    "\n",
    "        push!(ranking, idx)\n",
    "        push!(total_gains, gain)\n",
    "\n",
    "        mask[idx] = 1\n",
    "        idxs = findall(==(0), mask)\n",
    "    end\n",
    "    return Result(ranking, total_gains)\n",
    "end;"
   ]
  },
  {
   "cell_type": "code",
   "execution_count": 23,
   "metadata": {},
   "outputs": [],
   "source": [
    "function fit(optimizer::NaiveGreedy, k, sample_cost)\n",
    "    @timeit to \"intro\" begin\n",
    "        d, n = size(optimizer.X)\n",
    "        \n",
    "        cost = 0.0\n",
    "\n",
    "        ranking = Int32[]\n",
    "        total_gains = Float64[]\n",
    "\n",
    "        mask = zeros(Int8, n)\n",
    "        current_values = zeros(Float64, d)\n",
    "        current_concave_values = sqrt.(current_values)\n",
    "        current_concave_values_sum = sum(current_concave_values)\n",
    "\n",
    "        idxs = 1:n\n",
    "    end\n",
    "\n",
    "    gains = zeros(Float64, size(idxs)[1])\n",
    "    @timeit to \"while loop\" begin\n",
    "        while cost < k\n",
    "            gains = @timeit to \"calc_gains\" calculate_gains!(optimizer.X, gains, current_values, idxs, current_concave_values_sum)\n",
    "            \n",
    "            if sample_cost != nothing\n",
    "                gains ./= sample_cost[idxs]\n",
    "                idx_idxs = @timeit to \"lexsort\" lexsort(gains, 1:size(gains)[1], true)\n",
    "\n",
    "                @timeit to \"select_idx\" begin\n",
    "                    for i in 1:size(idx_idxs)[1]\n",
    "                        global idx = idx_idxs[i]\n",
    "                        global best_idx = idxs[idx]\n",
    "                        if cost + sample_cost[best_idx] <= k\n",
    "                            break\n",
    "                        end\n",
    "                    end\n",
    "                end\n",
    "                curr_cost = sample_cost[best_idx]\n",
    "            else\n",
    "                global idx = argmax(gains)\n",
    "                global best_idx = idxs[idx]\n",
    "                curr_cost = 1.\n",
    "            end\n",
    "            \n",
    "            if cost + curr_cost > k\n",
    "                break\n",
    "            end\n",
    "                \n",
    "            @timeit to \"select_idx\" begin\n",
    "                cost += curr_cost\n",
    "                # Calculate gains\n",
    "                gain = gains[idx] * curr_cost\n",
    "            end\n",
    "            \n",
    "            @timeit to \"select_next\" begin\n",
    "                # Select next\n",
    "                current_values += view(optimizer.X, :, best_idx)\n",
    "                current_concave_values .= sqrt.(current_values)\n",
    "                current_concave_values_sum = sum(current_concave_values)\n",
    "\n",
    "                push!(ranking, best_idx)\n",
    "                push!(total_gains, gain)\n",
    "\n",
    "                mask[best_idx] = 1\n",
    "                idxs = findall(==(0), mask)\n",
    "            end\n",
    "        end\n",
    "    end\n",
    "    return Result(ranking, total_gains)\n",
    "end;"
   ]
  },
  {
   "cell_type": "code",
   "execution_count": 12,
   "metadata": {},
   "outputs": [],
   "source": [
    "const to = TimerOutput();"
   ]
  },
  {
   "cell_type": "code",
   "execution_count": 20,
   "metadata": {},
   "outputs": [],
   "source": [
    "k = 1000;"
   ]
  },
  {
   "cell_type": "code",
   "execution_count": 24,
   "metadata": {},
   "outputs": [],
   "source": [
    "opt1 = NaiveGreedy(X_digits);\n",
    "res1 = fit(opt1, k, nothing);\n",
    "# bench1 = @benchmark fit(opt1, k);\n",
    "# t1 = bench1.times[1]/1e9"
   ]
  },
  {
   "cell_type": "code",
   "execution_count": 25,
   "metadata": {},
   "outputs": [
    {
     "name": "stdout",
     "output_type": "stream",
     "text": [
      "\u001b[0m\u001b[1m ────────────────────────────────────────────────────────────────────────\u001b[22m\n",
      "\u001b[0m\u001b[1m                         \u001b[22m        Time                   Allocations      \n",
      "                         ──────────────────────   ───────────────────────\n",
      "    Tot / % measured:          254s / 16.3%           24.2GiB / 76.5%    \n",
      "\n",
      " Section         ncalls     time   %tot     avg     alloc   %tot      avg\n",
      " ────────────────────────────────────────────────────────────────────────\n",
      " while loop           3    41.2s   100%   13.7s   18.5GiB  100%   6.17GiB\n",
      "   calc_gains     2.10k    21.1s  51.3%  10.1ms   18.2MiB  0.10%  8.89KiB\n",
      "   select_next    2.10k    16.6s  40.4%  7.93ms   18.5GiB  100%   9.01MiB\n",
      "   select_idx     2.10k   7.91ms  0.02%  3.77μs   67.8KiB  0.00%    33.1B\n",
      " intro                3   96.4μs  0.00%  32.1μs   1.67MiB  0.01%   569KiB\n",
      "\u001b[0m\u001b[1m ────────────────────────────────────────────────────────────────────────\u001b[22m"
     ]
    }
   ],
   "source": [
    "show(to)"
   ]
  },
  {
   "cell_type": "code",
   "execution_count": 18,
   "metadata": {},
   "outputs": [
    {
     "name": "stdout",
     "output_type": "stream",
     "text": [
      "\u001b[0m\u001b[1m ────────────────────────────────────────────────────────────────────────\u001b[22m\n",
      "\u001b[0m\u001b[1m                         \u001b[22m        Time                   Allocations      \n",
      "                         ──────────────────────   ───────────────────────\n",
      "    Tot / % measured:          109s / 18.2%           60.9GiB / 98.9%    \n",
      "\n",
      " Section         ncalls     time   %tot     avg     alloc   %tot      avg\n",
      " ────────────────────────────────────────────────────────────────────────\n",
      " while loop           2    19.8s   100%   9.91s   60.2GiB  100%   30.1GiB\n",
      "   calc_gains       101    15.9s  80.2%   157ms   58.9GiB  97.8%   597MiB\n",
      "   select_next      100    2.71s  13.7%  27.1ms    902MiB  1.46%  9.02MiB\n",
      "   select_idx       100   5.32ms  0.03%  53.2μs   5.33KiB  0.00%    54.6B\n",
      " intro                2    147μs  0.00%  73.4μs   1.11MiB  0.00%   569KiB\n",
      "\u001b[0m\u001b[1m ────────────────────────────────────────────────────────────────────────\u001b[22m"
     ]
    }
   ],
   "source": [
    "show(to)"
   ]
  },
  {
   "cell_type": "code",
   "execution_count": null,
   "metadata": {},
   "outputs": [],
   "source": [
    "opt0 = RandomGreedy(X_digits);\n",
    "res0 = fit(opt0, k);\n",
    "bench0 = @benchmark fit(opt0, k);\n",
    "t0 = bench0.times[1]/1e9"
   ]
  },
  {
   "cell_type": "code",
   "execution_count": null,
   "metadata": {},
   "outputs": [],
   "source": [
    "p1 = plot(cumsum(res0.gains), label=\"Random\")\n",
    "plot!(cumsum(res1.gains), label=\"Naive\")\n",
    "ylabel!(\"F(S)\", fontsize=12)\n",
    "xlabel!(\"Subset Size\", fontsize=12)\n",
    "\n",
    "labels = [\"Random\", \"Naive\"]\n",
    "p2 = bar(labels, [t0, t1], labels=labels, legend=false)\n",
    "ylabel!(\"Time (s)\")\n",
    "\n",
    "plot(p1, p2, layout = (1, 2))\n",
    "plot!(size=(900,500))"
   ]
  },
  {
   "cell_type": "code",
   "execution_count": null,
   "metadata": {},
   "outputs": [],
   "source": []
  }
 ],
 "metadata": {
  "kernelspec": {
   "display_name": "Julia 1.6.2",
   "language": "julia",
   "name": "julia-1.6"
  },
  "language_info": {
   "file_extension": ".jl",
   "mimetype": "application/julia",
   "name": "julia",
   "version": "1.6.2"
  }
 },
 "nbformat": 4,
 "nbformat_minor": 4
}
